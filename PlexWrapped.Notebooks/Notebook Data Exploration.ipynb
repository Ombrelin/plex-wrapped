{
 "cells": [
  {
   "cell_type": "markdown",
   "metadata": {},
   "source": [
    "Parsing data from JSON :"
   ]
  },
  {
   "cell_type": "code",
   "execution_count": null,
   "metadata": {
    "dotnet_interactive": {
     "language": "csharp"
    }
   },
   "outputs": [
    {
     "data": {
      "text/plain": "Installed package Newtonsoft.Json version 13.0.1"
     },
     "output_type": "unknown"
    },
    {
     "data": {
      "text/plain": "Number of records for 2021 : \r\n"
     },
     "output_type": "unknown"
    },
    {
     "data": {
      "text/plain": "5000\r\n"
     },
     "output_type": "unknown"
    },
    {
     "data": {
      "text/plain": "bertrand@lapostolet.fr : 316\r\n"
     },
     "output_type": "unknown"
    },
    {
     "data": {
      "text/plain": "Arsène Lapostolet : 3446\r\n"
     },
     "output_type": "unknown"
    },
    {
     "data": {
      "text/plain": "edmond.lapostolet@free.fr : 845\r\n"
     },
     "output_type": "unknown"
    },
    {
     "data": {
      "text/plain": "gros tictic : 16\r\n"
     },
     "output_type": "unknown"
    },
    {
     "data": {
      "text/plain": "maud.glacee@gmail.com : 144\r\n"
     },
     "output_type": "unknown"
    },
    {
     "data": {
      "text/plain": "alfred.lapostolet@free.fr : 195\r\n"
     },
     "output_type": "unknown"
    },
    {
     "data": {
      "text/plain": "thomasturbide@gmail.com : 1\r\n"
     },
     "output_type": "unknown"
    },
    {
     "data": {
      "text/plain": "alexis.gmatias@gmail.com : 4\r\n"
     },
     "output_type": "unknown"
    },
    {
     "data": {
      "text/plain": "adan.elarabi@gmail.com : 2\r\n"
     },
     "output_type": "unknown"
    },
    {
     "data": {
      "text/plain": "sebastien.cuvellier@hotmail.com : 5\r\n"
     },
     "output_type": "unknown"
    },
    {
     "data": {
      "text/plain": "alzaimeur@gmail.com : 26\r\n"
     },
     "output_type": "unknown"
    }
   ],
   "source": [
    "#r \"nuget:Newtonsoft.Json, 13.0.1\"\r\n",
    "\r\n",
    "using System.IO;\r\n",
    "using Newtonsoft.Json;\r\n",
    "using Newtonsoft.Json.Linq;\r\n",
    "\r\n",
    "JArray records;\r\n",
    "using (StreamReader reader = File.OpenText(@\"data/data.json\"))\r\n",
    "{\r\n",
    "    JObject data = (JObject)JToken.ReadFrom(new JsonTextReader(reader));\r\n",
    "    records = (JArray) data[\"response\"][\"data\"][\"data\"];\r\n",
    "}\r\n",
    "Console.WriteLine(\"Number of records for 2021 : \");\r\n",
    "Console.WriteLine(records.Count);\r\n",
    "\r\n",
    "var playsbyUser = records\r\n",
    "        .Select(record =>(string) record[\"user\"] )\r\n",
    "        .GroupBy(g => new {Name = g})\r\n",
    "        .Select(g => (g.Key.Name,g.Count()))\r\n",
    "        .ToList();\r\n",
    "playsbyUser.ForEach(user => Console.WriteLine($\"{user.Item1} : {user.Item2}\"));\r\n",
    "\r\n",
    "\r\n"
   ]
  },
  {
   "cell_type": "markdown",
   "metadata": {},
   "source": [
    "Filtering records for the current year :"
   ]
  },
  {
   "cell_type": "code",
   "execution_count": null,
   "metadata": {
    "dotnet_interactive": {
     "language": "csharp"
    }
   },
   "outputs": [
    {
     "data": {
      "text/plain": "Number of records for 2021 :\r\n"
     },
     "output_type": "unknown"
    },
    {
     "data": {
      "text/plain": "1743\r\n"
     },
     "output_type": "unknown"
    }
   ],
   "source": [
    "var records2021 = records\r\n",
    "    .Where(record => DateTimeOffset.FromUnixTimeSeconds((long) record[\"date\"]).UtcDateTime.Year == 2021)\r\n",
    "    .ToList();\r\n",
    "\r\n",
    "Console.WriteLine(\"Number of records for 2021 :\");\r\n",
    "Console.WriteLine(records2021.Count);\r\n"
   ]
  },
  {
   "cell_type": "markdown",
   "metadata": {},
   "source": [
    "Records for user of interest :"
   ]
  },
  {
   "cell_type": "code",
   "execution_count": null,
   "metadata": {
    "dotnet_interactive": {
     "language": "csharp"
    }
   },
   "outputs": [
    {
     "data": {
      "text/plain": "Number of records for Arsène Lapostolet in 2021 :\r\n"
     },
     "output_type": "unknown"
    },
    {
     "data": {
      "text/plain": "1413\r\n"
     },
     "output_type": "unknown"
    }
   ],
   "source": [
    "var recordsArsene2021 = records2021\r\n",
    "    .Where(record => ((string) record[\"user\"]) == \"Arsène Lapostolet\")\r\n",
    "    .ToList();\r\n",
    "Console.WriteLine(\"Number of records for Arsène Lapostolet in 2021 :\");\r\n",
    "Console.WriteLine(recordsArsene2021.Count);"
   ]
  },
  {
   "cell_type": "markdown",
   "metadata": {},
   "source": [
    "Most listened Music artist by Arsène Lapostolet in 2021 :"
   ]
  },
  {
   "cell_type": "code",
   "execution_count": null,
   "metadata": {
    "dotnet_interactive": {
     "language": "csharp"
    }
   },
   "outputs": [
    {
     "data": {
      "text/plain": "Carbon Based Lifeforms : 503\r\n"
     },
     "output_type": "unknown"
    },
    {
     "data": {
      "text/plain": "Les Fatals Picards : 120\r\n"
     },
     "output_type": "unknown"
    },
    {
     "data": {
      "text/plain": "Jeremy Soule : 108\r\n"
     },
     "output_type": "unknown"
    },
    {
     "data": {
      "text/plain": "Imagine Dragons : 88\r\n"
     },
     "output_type": "unknown"
    },
    {
     "data": {
      "text/plain": "Vald : 80\r\n"
     },
     "output_type": "unknown"
    }
   ],
   "source": [
    "recordsArsene2021\r\n",
    "    .Where(record => ((string) record[\"media_type\"] == \"track\"))\r\n",
    "    .Select(record =>(string) record[\"grandparent_title\"] )\r\n",
    "    .GroupBy(g => new {Name = g})\r\n",
    "    .Select(g => (g.Key.Name,g.Count()))\r\n",
    "    .OrderByDescending(artist => artist.Item2)\r\n",
    "    .Take(5)\r\n",
    "    .ToList()\r\n",
    "    .ForEach(artist => Console.WriteLine($\"{artist.Item1} : {artist.Item2}\"))"
   ]
  },
  {
   "cell_type": "markdown",
   "metadata": {},
   "source": [
    "Most played songs : "
   ]
  },
  {
   "cell_type": "code",
   "execution_count": null,
   "metadata": {
    "dotnet_interactive": {
     "language": "csharp"
    }
   },
   "outputs": [
    {
     "data": {
      "text/plain": "WARRIORS : 33\r\n"
     },
     "output_type": "unknown"
    },
    {
     "data": {
      "text/plain": "DEMONS : 30\r\n"
     },
     "output_type": "unknown"
    },
    {
     "data": {
      "text/plain": "Set Theory : 26\r\n"
     },
     "output_type": "unknown"
    },
    {
     "data": {
      "text/plain": "Abiogenesis : 26\r\n"
     },
     "output_type": "unknown"
    },
    {
     "data": {
      "text/plain": "Proton/Electron : 26\r\n"
     },
     "output_type": "unknown"
    }
   ],
   "source": [
    "recordsArsene2021\r\n",
    "    .Where(record => ((string) record[\"media_type\"] == \"track\"))\r\n",
    "    .Select(record =>(string) record[\"title\"] )\r\n",
    "    .GroupBy(g => new {Name = g})\r\n",
    "    .Select(g => (g.Key.Name,g.Count()))\r\n",
    "    .OrderByDescending(artist => artist.Item2)\r\n",
    "    .Take(5)\r\n",
    "    .ToList()\r\n",
    "    .ForEach(artist => Console.WriteLine($\"{artist.Item1} : {artist.Item2}\"))"
   ]
  },
  {
   "cell_type": "markdown",
   "metadata": {},
   "source": [
    "Most Played Decades :"
   ]
  },
  {
   "cell_type": "code",
   "execution_count": null,
   "metadata": {
    "dotnet_interactive": {
     "language": "csharp"
    }
   },
   "outputs": [
    {
     "data": {
      "text/plain": "2000 : 567\r\n"
     },
     "output_type": "unknown"
    },
    {
     "data": {
      "text/plain": "2010 : 563\r\n"
     },
     "output_type": "unknown"
    },
    {
     "data": {
      "text/plain": "1990 : 48\r\n"
     },
     "output_type": "unknown"
    },
    {
     "data": {
      "text/plain": "2020 : 22\r\n"
     },
     "output_type": "unknown"
    },
    {
     "data": {
      "text/plain": "1980 : 20\r\n"
     },
     "output_type": "unknown"
    }
   ],
   "source": [
    "recordsArsene2021\r\n",
    "    .Where(record => ((string) record[\"media_type\"] == \"track\"))\r\n",
    "    .Select(record =>(string) record[\"year\"])\r\n",
    "    .Where(year => year.All(char.IsDigit) && year.Length > 0)\r\n",
    "    .Select(year => year[0..3])\r\n",
    "    .GroupBy(g => new {Name = g})\r\n",
    "    .Select(g => (g.Key.Name,g.Count()))\r\n",
    "    .OrderByDescending(decade => decade.Item2)\r\n",
    "    .Take(5)\r\n",
    "    .ToList()\r\n",
    "    .ForEach(decade => Console.WriteLine($\"{decade.Item1}0 : {decade.Item2}\"));"
   ]
  },
  {
   "cell_type": "markdown",
   "metadata": {},
   "source": [
    "Day of Week with most plays :"
   ]
  },
  {
   "cell_type": "code",
   "execution_count": null,
   "metadata": {
    "dotnet_interactive": {
     "language": "csharp"
    }
   },
   "outputs": [
    {
     "data": {
      "text/plain": "Monday : 362\r\n"
     },
     "output_type": "unknown"
    },
    {
     "data": {
      "text/plain": "Tuesday : 326\r\n"
     },
     "output_type": "unknown"
    },
    {
     "data": {
      "text/plain": "Wednesday : 228\r\n"
     },
     "output_type": "unknown"
    },
    {
     "data": {
      "text/plain": "Sunday : 170\r\n"
     },
     "output_type": "unknown"
    },
    {
     "data": {
      "text/plain": "Saturday : 109\r\n"
     },
     "output_type": "unknown"
    },
    {
     "data": {
      "text/plain": "Friday : 93\r\n"
     },
     "output_type": "unknown"
    },
    {
     "data": {
      "text/plain": "Thursday : 43\r\n"
     },
     "output_type": "unknown"
    }
   ],
   "source": [
    "recordsArsene2021\r\n",
    "    .Where(record => ((string) record[\"media_type\"] == \"track\"))\r\n",
    "    .Select(record => DateTimeOffset.FromUnixTimeSeconds((long) record[\"date\"]).UtcDateTime.DayOfWeek)\r\n",
    "    .GroupBy(g => new {Name = g})\r\n",
    "    .Select(g => (g.Key.Name,g.Count()))\r\n",
    "    .OrderByDescending(day => day.Item2)\r\n",
    "    .Take(7)\r\n",
    "    .ToList()\r\n",
    "    .ForEach(day => Console.WriteLine($\"{day.Item1} : {day.Item2}\"));"
   ]
  },
  {
   "cell_type": "markdown",
   "metadata": {},
   "source": [
    "Hour of day with most plays :"
   ]
  },
  {
   "cell_type": "code",
   "execution_count": null,
   "metadata": {
    "dotnet_interactive": {
     "language": "csharp"
    }
   },
   "outputs": [
    {
     "data": {
      "text/plain": "12h00 : 181\r\n"
     },
     "output_type": "unknown"
    },
    {
     "data": {
      "text/plain": "13h00 : 164\r\n"
     },
     "output_type": "unknown"
    },
    {
     "data": {
      "text/plain": "9h00 : 154\r\n"
     },
     "output_type": "unknown"
    },
    {
     "data": {
      "text/plain": "10h00 : 152\r\n"
     },
     "output_type": "unknown"
    },
    {
     "data": {
      "text/plain": "14h00 : 134\r\n"
     },
     "output_type": "unknown"
    }
   ],
   "source": [
    "recordsArsene2021\r\n",
    "    .Where(record => ((string) record[\"media_type\"] == \"track\"))\r\n",
    "    .Select(record => DateTimeOffset.FromUnixTimeSeconds((long) record[\"date\"]).UtcDateTime.Hour)\r\n",
    "    .GroupBy(g => new {Name = g})\r\n",
    "    .Select(g => (g.Key.Name,g.Count()))\r\n",
    "    .OrderByDescending(day => day.Item2)\r\n",
    "    .Take(5)\r\n",
    "    .ToList()\r\n",
    "    .ForEach(day => Console.WriteLine($\"{day.Item1}h00 : {day.Item2}\"));"
   ]
  },
  {
   "cell_type": "code",
   "execution_count": null,
   "metadata": {
    "dotnet_interactive": {
     "language": "csharp"
    }
   },
   "outputs": [
    {
     "data": {
      "text/plain": "John Wick : 2\r\n"
     },
     "output_type": "unknown"
    },
    {
     "data": {
      "text/plain": "Futurama: Bender's Game : 2\r\n"
     },
     "output_type": "unknown"
    },
    {
     "data": {
      "text/plain": "Futurama: The Beast with a Billion Backs : 2\r\n"
     },
     "output_type": "unknown"
    },
    {
     "data": {
      "text/plain": "Captain America: Civil War : 2\r\n"
     },
     "output_type": "unknown"
    },
    {
     "data": {
      "text/plain": "John Wick: Chapter 3 - Parabellum : 1\r\n"
     },
     "output_type": "unknown"
    },
    {
     "data": {
      "text/plain": "John Wick: Chapter 2 : 1\r\n"
     },
     "output_type": "unknown"
    },
    {
     "data": {
      "text/plain": "Mission: Impossible II : 1\r\n"
     },
     "output_type": "unknown"
    },
    {
     "data": {
      "text/plain": "Mission: Impossible : 1\r\n"
     },
     "output_type": "unknown"
    },
    {
     "data": {
      "text/plain": "Futurama: Into the Wild Green Yonder : 1\r\n"
     },
     "output_type": "unknown"
    },
    {
     "data": {
      "text/plain": "Futurama: Bender's Big Score : 1\r\n"
     },
     "output_type": "unknown"
    },
    {
     "data": {
      "text/plain": "Avengers: Endgame : 1\r\n"
     },
     "output_type": "unknown"
    },
    {
     "data": {
      "text/plain": "Avengers: Infinity War : 1\r\n"
     },
     "output_type": "unknown"
    },
    {
     "data": {
      "text/plain": "Avengers: Age of Ultron : 1\r\n"
     },
     "output_type": "unknown"
    },
    {
     "data": {
      "text/plain": "The Avengers : 1\r\n"
     },
     "output_type": "unknown"
    }
   ],
   "source": [
    "recordsArsene2021\r\n",
    "    .Where(record => ((string) record[\"media_type\"] == \"movie\"))\r\n",
    "    .Select(record =>(string) record[\"title\"] )\r\n",
    "    .GroupBy(g => new {Name = g})\r\n",
    "    .Select(g => (g.Key.Name,g.Count()))\r\n",
    "    .OrderByDescending(film => film.Item2)\r\n",
    "    .Take(50)\r\n",
    "    .ToList()\r\n",
    "    .ForEach(film => Console.WriteLine($\"{film.Item1} : {film.Item2}\"))"
   ]
  }
 ],
 "metadata": {
  "kernelspec": {
   "display_name": ".NET (C#)",
   "language": "C#",
   "name": ".net-csharp"
  },
  "language_info": {
   "name": "C#",
   "version": ""
  },
  "orig_nbformat": 2
 },
 "nbformat": 4,
 "nbformat_minor": 2
}